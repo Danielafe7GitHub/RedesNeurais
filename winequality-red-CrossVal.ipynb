{
 "cells": [
  {
   "cell_type": "code",
   "execution_count": 1,
   "metadata": {},
   "outputs": [],
   "source": [
    "import os\n",
    "import pandas as pd\n",
    "import numpy as np\n",
    "import matplotlib.pyplot as plt\n",
    "from sklearn import preprocessing\n",
    "from sklearn.model_selection import train_test_split as tts\n",
    "from sklearn.preprocessing import minmax_scale as mms\n",
    "from sklearn.metrics import accuracy_score\n",
    "from sklearn.metrics import f1_score"
   ]
  },
  {
   "cell_type": "code",
   "execution_count": 2,
   "metadata": {},
   "outputs": [],
   "source": [
    "def load_data(path,name):\n",
    "    csv_path = os.path.join(path, name)\n",
    "    return pd.read_csv(csv_path)"
   ]
  },
  {
   "cell_type": "code",
   "execution_count": 3,
   "metadata": {},
   "outputs": [
    {
     "name": "stdout",
     "output_type": "stream",
     "text": [
      "Loading wine dataset ...\n"
     ]
    }
   ],
   "source": [
    "path = \"C:/Users/UX310UQ/Documents/Maestria_I/RedesNeurais/Redes neurais/RedesNeurais\"\n",
    "name = \"winequality-red.csv\"\n",
    "data = load_data(path,name)\n",
    "print(\"Loading wine dataset ...\")\n",
    "#data.info()"
   ]
  },
  {
   "cell_type": "markdown",
   "metadata": {},
   "source": [
    "# Pre-processing Data Set"
   ]
  },
  {
   "cell_type": "code",
   "execution_count": 4,
   "metadata": {},
   "outputs": [
    {
     "name": "stdout",
     "output_type": "stream",
     "text": [
      "Convert Categorical Output to One Hot Vector\n"
     ]
    }
   ],
   "source": [
    "print(\"Convert Categorical Output to One Hot Vector\")\n",
    "def categorical_output(Y_index): \n",
    "    #Y = data[\"category\"]\n",
    "    Y = Y_index.values.reshape(-1,1)\n",
    "    enc = preprocessing.OneHotEncoder()\n",
    "    enc.fit(Y)\n",
    "    Y = enc.transform(Y).toarray() #Converting in hot vectors\n",
    "    return Y"
   ]
  },
  {
   "cell_type": "code",
   "execution_count": 5,
   "metadata": {},
   "outputs": [
    {
     "name": "stdout",
     "output_type": "stream",
     "text": [
      "Preparing inputs droping Labels and droping indexs\n"
     ]
    }
   ],
   "source": [
    "print(\"Preparing inputs droping Labels and droping indexs\")\n",
    "def preprocessing_input(X_index):\n",
    "    #X = data\n",
    "    #X = X_index.drop(\"Unnamed: 0\", axis = 1)\n",
    "    #X = X_index.drop(\"category\", axis = 1)\n",
    "    X = mms(X_index) #Scalling \n",
    "    return X\n",
    "    #X.head()"
   ]
  },
  {
   "cell_type": "code",
   "execution_count": null,
   "metadata": {},
   "outputs": [],
   "source": []
  },
  {
   "cell_type": "code",
   "execution_count": null,
   "metadata": {},
   "outputs": [],
   "source": []
  },
  {
   "cell_type": "markdown",
   "metadata": {},
   "source": [
    "# NN L-Layer"
   ]
  },
  {
   "cell_type": "code",
   "execution_count": 6,
   "metadata": {},
   "outputs": [],
   "source": [
    "def sigmoid(Z):\n",
    "    S = 1 / (1 + np.exp(-Z))\n",
    "    return S,Z"
   ]
  },
  {
   "cell_type": "code",
   "execution_count": 7,
   "metadata": {},
   "outputs": [],
   "source": [
    "def derivade_sigmoid(z):\n",
    "    gz,z = sigmoid(z) \n",
    "    return gz * (1-gz);"
   ]
  },
  {
   "cell_type": "code",
   "execution_count": 8,
   "metadata": {},
   "outputs": [],
   "source": [
    "def initialize_parameters_deep(layer_dims):\n",
    "    np.random.seed(3)\n",
    "    parameters = {}\n",
    "    L = len(layer_dims)            # number of layers in the network, (including input layer)\n",
    "\n",
    "    for l in range(1, L):\n",
    "        parameters['W' + str(l)] = np.random.normal(0, 1, (layer_dims[l], layer_dims[l-1]))\n",
    "        parameters['b' + str(l)] = np.random.random((layer_dims[l], 1))\n",
    "      \n",
    "    return parameters"
   ]
  },
  {
   "cell_type": "code",
   "execution_count": 9,
   "metadata": {},
   "outputs": [],
   "source": [
    "def initialize_velocity(parameters):\n",
    "    L = len(parameters) // 2 # number of layers in the neural networks (not input layer including)\n",
    "    v = {}\n",
    "    \n",
    "    for l in range(L):\n",
    "        v[\"dW\" + str(l + 1)] = np.zeros_like(parameters[\"W\" + str(l+1)])\n",
    "        v[\"db\" + str(l + 1)] = np.zeros_like(parameters[\"b\" + str(l+1)])\n",
    "        \n",
    "    return v"
   ]
  },
  {
   "cell_type": "markdown",
   "metadata": {},
   "source": [
    "# Forward Propagation in L - Layers"
   ]
  },
  {
   "cell_type": "code",
   "execution_count": 10,
   "metadata": {},
   "outputs": [],
   "source": [
    "def linear_forward(A, W, b):\n",
    "    Z = np.dot(W,A)+b\n",
    "    cache = (A, W, b)\n",
    "    return Z, cache"
   ]
  },
  {
   "cell_type": "code",
   "execution_count": 11,
   "metadata": {},
   "outputs": [],
   "source": [
    "def linear_activation_forward(A_prev, W, b, activation):\n",
    "    if activation == \"sigmoid\":\n",
    "        Z, linear_cache = linear_forward(A_prev, W, b)\n",
    "        A, activation_cache = sigmoid(Z)\n",
    "        \n",
    "    cache = (linear_cache, activation_cache) #linear_cahce: A_prev,Wi,bi - activation_cache: Zi\n",
    "    return A, cache"
   ]
  },
  {
   "cell_type": "code",
   "execution_count": 12,
   "metadata": {},
   "outputs": [],
   "source": [
    "def L_model_forward(X,Y,parameters,pred=False):\n",
    "    caches = []\n",
    "    A = X                                     #(input size, number of examples)\n",
    "    L = len(parameters) // 2                  # number of layers in the neural network (not input layer including)\n",
    "    \n",
    "    # Implement [LINEAR -> SIGMOID]*(L-1). To L-1 Layers\n",
    "    for l in range(1, L):\n",
    "        A_prev = A \n",
    "        W=parameters['W' + str(l)]\n",
    "        b=parameters['b' + str(l)]\n",
    "        A, cache = linear_activation_forward(A_prev, W, b, \"sigmoid\")\n",
    "        caches.append(cache)\n",
    "    \n",
    "    # Implement LINEAR -> SIGMOID. Last layer\n",
    "    AL, cache = linear_activation_forward(A, parameters['W' + str(L)], parameters['b' + str(L)], \"sigmoid\")\n",
    "    caches.append(cache)\n",
    "    \n",
    "    # Predicction\n",
    "    if pred:\n",
    "        # The max value is 1 , else 0\n",
    "        AL_temp = AL.T\n",
    "        Y_prediction = np.zeros_like(AL_temp)\n",
    "        Y_prediction[np.arange(len(AL_temp)), AL_temp.argmax(1)] = 1\n",
    "        Y_prediction = Y_prediction.T\n",
    "        return Y_prediction\n",
    "    return AL, caches"
   ]
  },
  {
   "cell_type": "code",
   "execution_count": 13,
   "metadata": {},
   "outputs": [],
   "source": [
    "def compute_cost(AL, Y):\n",
    "    m = Y.shape[1]\n",
    "    cost = (- 1 / m) * np.sum(Y * np.log(AL) + (1 - Y) * (np.log(1 - AL)))\n",
    "    cost = np.squeeze(cost)      # To make sure your cost's shape is what we expect (e.g. this turns [[17]] into 17).\n",
    "    return cost"
   ]
  },
  {
   "cell_type": "markdown",
   "metadata": {},
   "source": [
    "# Backward Propagation in L - Layers"
   ]
  },
  {
   "cell_type": "code",
   "execution_count": 14,
   "metadata": {},
   "outputs": [],
   "source": [
    "def linear_backward(dZ, cache):\n",
    "    A_prev, W, b = cache\n",
    "    m = A_prev.shape[1]\n",
    "\n",
    "    dW = (1/m) * np.dot(dZ,A_prev.T)\n",
    "    db = (1/m) * np.sum(dZ,axis=1,keepdims=True)\n",
    "    dA_prev = np.dot(W.T,dZ)\n",
    "    return dA_prev, dW, db"
   ]
  },
  {
   "cell_type": "code",
   "execution_count": 15,
   "metadata": {},
   "outputs": [],
   "source": [
    "def linear_activation_backward(dA, cache, activation):\n",
    "    linear_cache, activation_cache = cache\n",
    "    \n",
    "    if activation == \"sigmoid\":\n",
    "        dZ = dA * derivade_sigmoid(activation_cache) # activation_cache = Z ; dA = np.dot(W.T,dZ) excep the first dA\n",
    "    \n",
    "    dA_prev, dW, db = linear_backward(dZ, linear_cache)    \n",
    "    return dA_prev, dW, db"
   ]
  },
  {
   "cell_type": "code",
   "execution_count": 16,
   "metadata": {},
   "outputs": [],
   "source": [
    "def L_model_backward(AL, Y, caches):\n",
    "    grads = {}\n",
    "    L = len(caches) # the number of layers (not input layer including)\n",
    "    m = AL.shape[1]\n",
    "    Y = Y.reshape(AL.shape)\n",
    "    \n",
    "    # Initializing the backpropagation\n",
    "    dAL =- (np.divide(Y, AL) - np.divide(1 - Y, 1 - AL)) # derivative of cost with respect to AL\n",
    "    \n",
    "    # Lth layer (SIGMOID -> LINEAR) gradients. Inputs: \"AL, Y, caches\". Outputs: \"grads[\"dAL\"], grads[\"dWL\"], grads[\"dbL\"]\n",
    "    current_cache = caches[L-1]\n",
    "    grads[\"dA\" + str(L)], grads[\"dW\" + str(L)], grads[\"db\" + str(L)] = linear_activation_backward(dAL, \n",
    "                                                                                                  current_cache, \"sigmoid\")\n",
    "    \n",
    "    for l in reversed(range(L-1)):\n",
    "        # lth layer: (SIGMOID -> LINEAR) gradients.\n",
    "        # Inputs: \"grads[\"dA\" + str(l + 2)], caches\". Outputs: \"grads[\"dA\" + str(l + 1)] , grads[\"dW\" + str(l + 1)] , grads[\"db\" + str(l + 1)] \n",
    "        current_cache = caches[l]\n",
    "        dA_prev, dW, db = linear_activation_backward(grads[\"dA\" + str(l + 2)], current_cache, \"sigmoid\")\n",
    "        grads[\"dA\" + str(l + 1)] = dA_prev\n",
    "        grads[\"dW\" + str(l + 1)] = dW\n",
    "        grads[\"db\" + str(l + 1)] = db\n",
    "\n",
    "    return grads"
   ]
  },
  {
   "cell_type": "markdown",
   "metadata": {},
   "source": [
    "# Update Parameters"
   ]
  },
  {
   "cell_type": "code",
   "execution_count": 17,
   "metadata": {},
   "outputs": [],
   "source": [
    "def update_parameters(parameters, grads, learning_rate):\n",
    "    L = len(parameters) // 2 # number of layers in the neural network (not input layer including)\n",
    "\n",
    "    for l in range(L):\n",
    "        parameters[\"W\" + str(l+1)] = parameters[\"W\" + str(l+1)] - learning_rate*grads[\"dW\" + str(l+1)]\n",
    "        parameters[\"b\" + str(l+1)] = parameters[\"b\" + str(l+1)] - learning_rate*grads[\"db\" + str(l+1)]\n",
    "\n",
    "    return parameters"
   ]
  },
  {
   "cell_type": "markdown",
   "metadata": {},
   "source": [
    "# Update Parameters with Momentum"
   ]
  },
  {
   "cell_type": "code",
   "execution_count": 18,
   "metadata": {},
   "outputs": [],
   "source": [
    "def update_parameters_with_momentum(parameters, grads, v, learning_rate, beta):\n",
    "    L = len(parameters) // 2 # number of layers in the neural networks (not input layer including)\n",
    "    \n",
    "    # Momentum update for each parameter\n",
    "    for l in range(L):\n",
    "        v[\"dW\" + str(l + 1)] = beta * v[\"dW\" + str(l + 1)] + (1 - beta) * grads['dW' + str(l + 1)]\n",
    "        v[\"db\" + str(l + 1)] = beta * v[\"db\" + str(l + 1)] + (1 - beta) * grads['db' + str(l + 1)]\n",
    "        parameters[\"W\" + str(l + 1)] = parameters[\"W\" + str(l + 1)] - learning_rate * v[\"dW\" + str(l + 1)]\n",
    "        parameters[\"b\" + str(l + 1)] = parameters[\"b\" + str(l + 1)] - learning_rate * v[\"db\" + str(l + 1)]\n",
    "        \n",
    "    return parameters, v"
   ]
  },
  {
   "cell_type": "markdown",
   "metadata": {},
   "source": [
    "# L - layer model"
   ]
  },
  {
   "cell_type": "code",
   "execution_count": 26,
   "metadata": {},
   "outputs": [],
   "source": [
    "def L_layer_model(X, Y, X_test, Y_test, layers_dims, learning_rate, num_iterations, print_cost=False):\n",
    "    np.random.seed(1)\n",
    "    costs = []                         \n",
    "    \n",
    "    # Parameters initialization.\n",
    "    parameters = initialize_parameters_deep(layers_dims)\n",
    "    \n",
    "    #Velocity initialization.\n",
    "    v = initialize_velocity(parameters)\n",
    "    \n",
    "    # Loop (gradient descent)\n",
    "    for i in range(0, num_iterations):\n",
    "\n",
    "        # Forward propagation: [LINEAR -> SIGMOID]*(L-1) -> LINEAR -> SIGMOID.\n",
    "        AL, caches = L_model_forward(X,Y,parameters,pred=False)\n",
    "        \n",
    "        # Compute cost.\n",
    "        cost = compute_cost(AL, Y)\n",
    "    \n",
    "        # Backward propagation.\n",
    "        grads = L_model_backward(AL, Y, caches)\n",
    " \n",
    "        # Update parameters. #Esto tem que quedar comentado si vc vai usar com Momemtum\n",
    "        #parameters = update_parameters(parameters, grads, learning_rate)\n",
    "        \n",
    "        # Update parameters with Momentum.\n",
    "        parameters, v = update_parameters_with_momentum(parameters, grads, v, learning_rate, beta = 0.9)\n",
    "                \n",
    "        # Print the cost every 100 training example\n",
    "        if print_cost and i % 500 == 0:\n",
    "            print (\"Cost after iteration %i: %f\" %(i, cost))\n",
    "        if print_cost and i % 500 == 0:\n",
    "            costs.append(cost)\n",
    "            \n",
    "    # Train Predicction\n",
    "    Y_prediction =  L_model_forward(X,Y,parameters,pred=True)\n",
    "    print(\"------------------\")\n",
    "    print(\"Train Prediccion:\")\n",
    "    print(Y_prediction.shape)\n",
    "    #print(Y_prediction)\n",
    "    print(\"Train Accuracy: {} %\".format(100 - np.mean(np.abs(Y_prediction - Y)) * 100))\n",
    "    print(\"Train F1 Score: \",f1_score(Y, Y_prediction, average='macro')*100)  \n",
    "    \n",
    "    # Test Predicction\n",
    "    print(\"------------------\")\n",
    "    Y_prediction =  L_model_forward(X_test,Y_test,parameters,pred=True)\n",
    "    print(\"Test Prediccion:\")\n",
    "    print(Y_prediction.shape)\n",
    "    #print(Y_prediction)\n",
    "    print(\"Test Accuracy: {} %\".format(100 - np.mean(np.abs(Y_prediction - Y_test)) * 100))\n",
    "    print(\"Test F1 Score: \",f1_score(Y_test, Y_prediction, average='macro')*100)  \n",
    "\n",
    "\n",
    "\n",
    "    if np.array_equal(Y,Y_prediction):\n",
    "        print(\"Success Prediction\")\n",
    "    else:\n",
    "        print(\"Un - success Prediction\")\n",
    "        \n",
    "    # plot the cost\n",
    "    plt.plot(np.squeeze(costs))\n",
    "    plt.ylabel('cost')\n",
    "    plt.xlabel('iterations (per tens)')\n",
    "    plt.title(\"Learning rate =\" + str(learning_rate))\n",
    "    plt.show()\n",
    "            \n",
    "    \n",
    "    return parameters"
   ]
  },
  {
   "cell_type": "markdown",
   "metadata": {},
   "source": [
    "# Cross Validation"
   ]
  },
  {
   "cell_type": "code",
   "execution_count": 27,
   "metadata": {},
   "outputs": [
    {
     "name": "stdout",
     "output_type": "stream",
     "text": [
      "StratifiedKFold(n_splits=10, random_state=None, shuffle=False)\n"
     ]
    }
   ],
   "source": [
    "from sklearn.model_selection import StratifiedKFold\n",
    "Y_index = data[\"category\"]\n",
    "X_index = data\n",
    "X_index = X_index.drop(\"Unnamed: 0\", axis = 1)\n",
    "X_index = X_index.drop(\"category\", axis = 1)\n",
    "skf = StratifiedKFold(n_splits=10)\n",
    "skf.get_n_splits(X_index, Y_index)\n",
    "print(skf)"
   ]
  },
  {
   "cell_type": "code",
   "execution_count": 28,
   "metadata": {},
   "outputs": [
    {
     "name": "stdout",
     "output_type": "stream",
     "text": [
      "Fold:  1\n",
      "(1438, 11)\n",
      "(1438, 3)\n",
      "(161, 11)\n",
      "(161, 3)\n",
      "Cost after iteration 0: 1.961238\n",
      "Cost after iteration 500: 0.856656\n",
      "------------------\n",
      "Train Prediccion:\n",
      "(3, 1438)\n",
      "Train Accuracy: 89.70792767732962 %\n",
      "Train F1 Score:  84.56189151599443\n",
      "------------------\n",
      "Test Prediccion:\n",
      "(3, 161)\n",
      "Test Accuracy: 87.99171842650104 %\n",
      "Test F1 Score:  81.98757763975155\n",
      "Un - success Prediction\n"
     ]
    },
    {
     "data": {
      "image/png": "[encoded data removed]",
      "text/plain": [
       "<Figure size 432x288 with 1 Axes>"
      ]
     },
     "metadata": {
      "needs_background": "light"
     },
     "output_type": "display_data"
    },
    {
     "name": "stdout",
     "output_type": "stream",
     "text": [
      "------------------\n",
      "Fold:  2\n",
      "(1438, 11)\n",
      "(1438, 3)\n",
      "(161, 11)\n",
      "(161, 3)\n",
      "Cost after iteration 0: 1.961630\n",
      "Cost after iteration 500: 0.868734\n",
      "------------------\n",
      "Train Prediccion:\n",
      "(3, 1438)\n",
      "Train Accuracy: 89.47612424663885 %\n",
      "Train F1 Score:  84.21418636995827\n",
      "------------------\n",
      "Test Prediccion:\n",
      "(3, 161)\n",
      "Test Accuracy: 90.06211180124224 %\n",
      "Test F1 Score:  85.09316770186336\n",
      "Un - success Prediction\n"
     ]
    },
    {
     "data": {
      "image/png": "[encoded data removed]",
      "text/plain": [
       "<Figure size 432x288 with 1 Axes>"
      ]
     },
     "metadata": {
      "needs_background": "light"
     },
     "output_type": "display_data"
    },
    {
     "name": "stdout",
     "output_type": "stream",
     "text": [
      "------------------\n",
      "Fold:  3\n",
      "(1438, 11)\n",
      "(1438, 3)\n",
      "(161, 11)\n",
      "(161, 3)\n",
      "Cost after iteration 0: 1.961381\n",
      "Cost after iteration 500: 0.866822\n",
      "------------------\n",
      "Train Prediccion:\n",
      "(3, 1438)\n",
      "Train Accuracy: 89.47612424663885 %\n",
      "Train F1 Score:  84.21418636995827\n",
      "------------------\n",
      "Test Prediccion:\n",
      "(3, 161)\n",
      "Test Accuracy: 86.33540372670808 %\n",
      "Test F1 Score:  79.5031055900621\n",
      "Un - success Prediction\n"
     ]
    },
    {
     "data": {
      "image/png": "[encoded data removed]",
      "text/plain": [
       "<Figure size 432x288 with 1 Axes>"
      ]
     },
     "metadata": {
      "needs_background": "light"
     },
     "output_type": "display_data"
    },
    {
     "name": "stdout",
     "output_type": "stream",
     "text": [
      "------------------\n",
      "Fold:  4\n",
      "(1439, 11)\n",
      "(1439, 3)\n",
      "(160, 11)\n",
      "(160, 3)\n",
      "Cost after iteration 0: 1.960965\n",
      "Cost after iteration 500: 0.852501\n",
      "------------------\n",
      "Train Prediccion:\n",
      "(3, 1439)\n",
      "Train Accuracy: 89.62242297892055 %\n",
      "Train F1 Score:  84.43363446838083\n",
      "------------------\n",
      "Test Prediccion:\n",
      "(3, 160)\n",
      "Test Accuracy: 87.5 %\n",
      "Test F1 Score:  81.25\n",
      "Un - success Prediction\n"
     ]
    },
    {
     "data": {
      "image/png": "[encoded data removed]",
      "text/plain": [
       "<Figure size 432x288 with 1 Axes>"
      ]
     },
     "metadata": {
      "needs_background": "light"
     },
     "output_type": "display_data"
    },
    {
     "name": "stdout",
     "output_type": "stream",
     "text": [
      "------------------\n",
      "Fold:  5\n",
      "(1439, 11)\n",
      "(1439, 3)\n",
      "(160, 11)\n",
      "(160, 3)\n",
      "Cost after iteration 0: 1.959067\n",
      "Cost after iteration 500: 0.871466\n",
      "------------------\n",
      "Train Prediccion:\n",
      "(3, 1439)\n",
      "Train Accuracy: 89.25179522816771 %\n",
      "Train F1 Score:  83.87769284225156\n",
      "------------------\n",
      "Test Prediccion:\n",
      "(3, 160)\n",
      "Test Accuracy: 87.91666666666667 %\n",
      "Test F1 Score:  81.875\n",
      "Un - success Prediction\n"
     ]
    },
    {
     "data": {
      "image/png": "[encoded data removed]",
      "text/plain": [
       "<Figure size 432x288 with 1 Axes>"
      ]
     },
     "metadata": {
      "needs_background": "light"
     },
     "output_type": "display_data"
    },
    {
     "name": "stdout",
     "output_type": "stream",
     "text": [
      "------------------\n",
      "Fold:  6\n",
      "(1439, 11)\n",
      "(1439, 3)\n",
      "(160, 11)\n",
      "(160, 3)\n",
      "Cost after iteration 0: 1.961410\n",
      "Cost after iteration 500: 0.878622\n",
      "------------------\n",
      "Train Prediccion:\n",
      "(3, 1439)\n",
      "Train Accuracy: 89.34445216585591 %\n",
      "Train F1 Score:  84.01667824878388\n",
      "------------------\n",
      "Test Prediccion:\n",
      "(3, 160)\n",
      "Test Accuracy: 88.33333333333333 %\n",
      "Test F1 Score:  82.5\n",
      "Un - success Prediction\n"
     ]
    },
    {
     "data": {
      "image/png": "[encoded data removed]",
      "text/plain": [
       "<Figure size 432x288 with 1 Axes>"
      ]
     },
     "metadata": {
      "needs_background": "light"
     },
     "output_type": "display_data"
    },
    {
     "name": "stdout",
     "output_type": "stream",
     "text": [
      "------------------\n",
      "Fold:  7\n",
      "(1439, 11)\n",
      "(1439, 3)\n",
      "(160, 11)\n",
      "(160, 3)\n",
      "Cost after iteration 0: 1.961720\n",
      "Cost after iteration 500: 0.847815\n",
      "------------------\n",
      "Train Prediccion:\n",
      "(3, 1439)\n",
      "Train Accuracy: 89.29812369701182 %\n",
      "Train F1 Score:  83.94718554551773\n",
      "------------------\n",
      "Test Prediccion:\n",
      "(3, 160)\n",
      "Test Accuracy: 81.66666666666667 %\n",
      "Test F1 Score:  72.5\n",
      "Un - success Prediction\n"
     ]
    },
    {
     "data": {
      "image/png": "[encoded data removed]",
      "text/plain": [
       "<Figure size 432x288 with 1 Axes>"
      ]
     },
     "metadata": {
      "needs_background": "light"
     },
     "output_type": "display_data"
    },
    {
     "name": "stdout",
     "output_type": "stream",
     "text": [
      "------------------\n",
      "Fold:  8\n",
      "(1440, 11)\n",
      "(1440, 3)\n",
      "(159, 11)\n",
      "(159, 3)\n",
      "Cost after iteration 0: 1.962032\n",
      "Cost after iteration 500: 0.855434\n",
      "------------------\n",
      "Train Prediccion:\n",
      "(3, 1440)\n",
      "Train Accuracy: 89.30555555555556 %\n",
      "Train F1 Score:  83.95833333333333\n",
      "------------------\n",
      "Test Prediccion:\n",
      "(3, 159)\n",
      "Test Accuracy: 81.9706498951782 %\n",
      "Test F1 Score:  72.95597484276729\n",
      "Un - success Prediction\n"
     ]
    },
    {
     "data": {
      "image/png": "[encoded data removed]",
      "text/plain": [
       "<Figure size 432x288 with 1 Axes>"
      ]
     },
     "metadata": {
      "needs_background": "light"
     },
     "output_type": "display_data"
    },
    {
     "name": "stdout",
     "output_type": "stream",
     "text": [
      "------------------\n",
      "Fold:  9\n",
      "(1440, 11)\n",
      "(1440, 3)\n",
      "(159, 11)\n",
      "(159, 3)\n",
      "Cost after iteration 0: 1.963464\n",
      "Cost after iteration 500: 0.881885\n",
      "------------------\n",
      "Train Prediccion:\n",
      "(3, 1440)\n",
      "Train Accuracy: 89.25925925925927 %\n",
      "Train F1 Score:  83.88888888888889\n",
      "------------------\n",
      "Test Prediccion:\n",
      "(3, 159)\n",
      "Test Accuracy: 89.51781970649895 %\n",
      "Test F1 Score:  84.27672955974843\n",
      "Un - success Prediction\n"
     ]
    },
    {
     "data": {
      "image/png": "[encoded data removed]",
      "text/plain": [
       "<Figure size 432x288 with 1 Axes>"
      ]
     },
     "metadata": {
      "needs_background": "light"
     },
     "output_type": "display_data"
    },
    {
     "name": "stdout",
     "output_type": "stream",
     "text": [
      "------------------\n",
      "Fold:  10\n",
      "(1441, 11)\n",
      "(1441, 3)\n",
      "(158, 11)\n",
      "(158, 3)\n",
      "Cost after iteration 0: 1.963045\n",
      "Cost after iteration 500: 0.856754\n",
      "------------------\n",
      "Train Prediccion:\n",
      "(3, 1441)\n",
      "Train Accuracy: 89.17418459403191 %\n",
      "Train F1 Score:  83.76127689104788\n",
      "------------------\n",
      "Test Prediccion:\n",
      "(3, 158)\n",
      "Test Accuracy: 89.45147679324894 %\n",
      "Test F1 Score:  84.17721518987342\n",
      "Un - success Prediction\n"
     ]
    },
    {
     "data": {
      "image/png": "[encoded data removed]",
      "text/plain": [
       "<Figure size 432x288 with 1 Axes>"
      ]
     },
     "metadata": {
      "needs_background": "light"
     },
     "output_type": "display_data"
    },
    {
     "name": "stdout",
     "output_type": "stream",
     "text": [
      "------------------\n"
     ]
    }
   ],
   "source": [
    "fold = 1\n",
    "layers_dims = [11, 9, 7, 5 ,3] \n",
    "for train_index, test_index in skf.split(X_index, Y_index):\n",
    "    print(\"Fold: \",fold)\n",
    "    fold += 1\n",
    "    X_train, X_test = X_index.iloc[train_index], X_index.iloc[test_index]\n",
    "    Y_train, Y_test = Y_index[train_index], Y_index[test_index]\n",
    "    X_train = preprocessing_input(X_train)\n",
    "    X_test = preprocessing_input(X_test)\n",
    "    Y_train = categorical_output(Y_train)\n",
    "    Y_test = categorical_output(Y_test) #Fix\n",
    "    print(X_train.shape)\n",
    "    print(Y_train.shape)\n",
    "    print(X_test.shape)\n",
    "    print(Y_test.shape)\n",
    "    \n",
    "    parameters = L_layer_model(X_train.T, Y_train.T, X_test.T, Y_test.T, layers_dims, learning_rate = 0.5, num_iterations = 1000, print_cost = True)\n",
    "    print(\"------------------\")"
   ]
  },
  {
   "cell_type": "code",
   "execution_count": null,
   "metadata": {},
   "outputs": [],
   "source": []
  },
  {
   "cell_type": "code",
   "execution_count": null,
   "metadata": {},
   "outputs": [],
   "source": []
  },
  {
   "cell_type": "code",
   "execution_count": null,
   "metadata": {},
   "outputs": [],
   "source": []
  },
  {
   "cell_type": "code",
   "execution_count": null,
   "metadata": {},
   "outputs": [],
   "source": []
  },
  {
   "cell_type": "code",
   "execution_count": null,
   "metadata": {},
   "outputs": [],
   "source": []
  },
  {
   "cell_type": "code",
   "execution_count": null,
   "metadata": {},
   "outputs": [],
   "source": []
  }
 ],
 "metadata": {
  "kernelspec": {
   "display_name": "Python 3",
   "language": "python",
   "name": "python3"
  },
  "language_info": {
   "codemirror_mode": {
    "name": "ipython",
    "version": 3
   },
   "file_extension": ".py",
   "mimetype": "text/x-python",
   "name": "python",
   "nbconvert_exporter": "python",
   "pygments_lexer": "ipython3",
   "version": "3.7.4"
  }
 },
 "nbformat": 4,
 "nbformat_minor": 2
}
