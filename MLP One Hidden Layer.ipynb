{
 "cells": [
  {
   "cell_type": "code",
   "execution_count": 1,
   "metadata": {},
   "outputs": [],
   "source": [
    "import numpy as np\n",
    "import csv"
   ]
  },
  {
   "cell_type": "code",
   "execution_count": 2,
   "metadata": {},
   "outputs": [],
   "source": [
    "def sigmoid(z):\n",
    "    s = 1 / (1 + np.exp(-z))\n",
    "    return s"
   ]
  },
  {
   "cell_type": "code",
   "execution_count": 61,
   "metadata": {},
   "outputs": [],
   "source": [
    "def initialize_parameters(n_x, n_h, n_y):\n",
    "    \"\"\"\n",
    "    Argument:\n",
    "    n_x -- size of the input layer\n",
    "    n_h -- size of the hidden layer\n",
    "    n_y -- size of the output layer\n",
    "    \n",
    "    Returns:\n",
    "    parameters -- python dictionary containing your parameters:\n",
    "                    W1 -- weight matrix of shape (n_h, n_x)\n",
    "                    b1 -- bias vector of shape (n_h, 1)\n",
    "                    W2 -- weight matrix of shape (n_y, n_h)\n",
    "                    b2 -- bias vector of shape (n_y, 1)\n",
    "    \"\"\"\n",
    "    \n",
    "    np.random.seed(1)\n",
    "    \n",
    "    W1 = np.random.randn(n_h, n_x) * 0.01\n",
    "    b1 = np.zeros(shape=(n_h, 1))\n",
    "    W2 = np.random.randn(n_y, n_h) * 0.01\n",
    "    b2 = np.zeros(shape=(n_y, 1))\n",
    "\n",
    "    parameters = {\"W1\": W1,\n",
    "                  \"b1\": b1,\n",
    "                  \"W2\": W2,\n",
    "                  \"b2\": b2}\n",
    "    \n",
    "    return parameters"
   ]
  },
  {
   "cell_type": "code",
   "execution_count": 24,
   "metadata": {},
   "outputs": [],
   "source": [
    "def forward(X,parameters):\n",
    "    \n",
    "    W1 = parameters[\"W1\"]\n",
    "    W2 = parameters[\"W2\"]\n",
    "    b1 = parameters[\"b1\"]\n",
    "    b2 = parameters[\"b2\"]\n",
    "    \n",
    "    Z1 = np.dot(W1, X) + b1\n",
    "    A1 = sigmoid(Z1)\n",
    "    Z2 = np.dot(W2, A1) + b2\n",
    "    A2 = sigmoid(Z2)\n",
    "    \n",
    "    \n",
    "    cache = {\n",
    "             \"Z1\": Z1,\n",
    "             \"A1\": A1,\n",
    "             \"Z2\": Z2,\n",
    "             \"A2\": A2}\n",
    "    \n",
    "    return A2,cache"
   ]
  },
  {
   "cell_type": "code",
   "execution_count": 129,
   "metadata": {},
   "outputs": [],
   "source": [
    "def compute_cost(A, Y):\n",
    "    m = Y.shape[0] \n",
    "    cost = (- 1 / m) * np.sum(Y * np.log(A) + (1 - Y) * (np.log(1 - A)))\n",
    "    return cost"
   ]
  },
  {
   "cell_type": "code",
   "execution_count": 130,
   "metadata": {},
   "outputs": [],
   "source": [
    "def derivade_sigmoid(z):\n",
    "    gz = sigmoid(z)\n",
    "    return gz * (1-gz);"
   ]
  },
  {
   "cell_type": "code",
   "execution_count": 131,
   "metadata": {},
   "outputs": [],
   "source": [
    "def backward(cache,parameters, X, Y):\n",
    "    \n",
    "    m = X.shape[1]\n",
    "    \n",
    "    W1 = parameters[\"W1\"]\n",
    "    W2 = parameters[\"W2\"]\n",
    "    b1 = parameters[\"b1\"]\n",
    "    b2 = parameters[\"b2\"]\n",
    "    \n",
    "    Z1 = cache[\"Z1\"] \n",
    "    A1 = cache[\"A1\"] \n",
    "    Z2 = cache[\"Z2\"] \n",
    "    A2 = cache[\"A2\"] \n",
    "    \n",
    "    dZ2 = A2 - Y\n",
    "    dW2 = (1 / m) * np.dot(dZ2, A1.T)\n",
    "    db2 = (1 / m) * np.sum(dZ2,axis=1,keepdims=True)\n",
    "    \n",
    "    dZ1 = np.dot(W2.T, dZ2) * derivade_sigmoid(Z1)\n",
    "    dW1 = (1/m) * np.dot(dZ1, X.T)\n",
    "    db1 = (1/m) * np.sum(dZ1,axis=1,keepdims=True)\n",
    "\n",
    "    \n",
    "    grads = {\"dW1\": dW1,\n",
    "             \"dW2\": dW2,\n",
    "             \"db1\": db1,             \n",
    "             \"db2\": db2,\n",
    "            }\n",
    "    return grads"
   ]
  },
  {
   "cell_type": "code",
   "execution_count": 227,
   "metadata": {},
   "outputs": [],
   "source": [
    "def update_parameters(parameters, grads, learning_rate=1.5):\n",
    "    W1 = parameters[\"W1\"]\n",
    "    W2 = parameters[\"W2\"]\n",
    "    b1 = parameters[\"b1\"]\n",
    "    b2 = parameters[\"b2\"]\n",
    "    \n",
    "   \n",
    "    dW1 = grads[\"dW1\"]\n",
    "    dW2 = grads[\"dW2\"]\n",
    "    db1 = grads[\"db1\"]\n",
    "    db2 = grads[\"db2\"]\n",
    "\n",
    "\n",
    "    W1 = W1 - learning_rate * dW1\n",
    "    W2 = W2 - learning_rate * dW2\n",
    "    b1 = b1 - learning_rate * db1\n",
    "    b2 = b2 - learning_rate * db2\n",
    "    \n",
    "    parameters = {\"W1\": W1,\n",
    "                  \"b1\": b1,\n",
    "                  \"W2\": W2,\n",
    "                  \"b2\": b2}\n",
    "    \n",
    "    return parameters"
   ]
  },
  {
   "cell_type": "code",
   "execution_count": 220,
   "metadata": {},
   "outputs": [],
   "source": [
    "def predict(X, parameters):\n",
    "    m = X.shape[1]\n",
    "    Y_prediction = np.zeros((1, m))\n",
    "    A2,_ = forward(X, parameters)\n",
    "    \n",
    "    for i in range(A2.shape[1]):\n",
    "        # Convert probabilities a[0,i] to actual predictions p[0,i]\n",
    "        Y_prediction[0, i] = 1 if A2[0, i] > 0.5 else 0\n",
    "        \n",
    "    return Y_prediction"
   ]
  },
  {
   "cell_type": "code",
   "execution_count": 221,
   "metadata": {},
   "outputs": [],
   "source": [
    "def nn_model(X, Y, n_h, num_iterations=1):   \n",
    "    n_x = X.shape[0]\n",
    "    n_y = Y.shape[0] \n",
    "    \n",
    "    # Initialize parameters, then retrieve W1, b1, W2, b2. Inputs: \"n_x, n_h, n_y\". Outputs = \"W1, b1, W2, b2, parameters\".\n",
    "    parameters = initialize_parameters(n_x, n_h, n_y)\n",
    "    \n",
    "    for i in range(0, num_iterations):\n",
    "         \n",
    "        # Forward propagation. Inputs: \"X, parameters\". Outputs: \"A2, cache\".\n",
    "        A2, cache = forward(X, parameters)\n",
    "        \n",
    "        # Cost function. Inputs: \"A2, Y, parameters\". Outputs: \"cost\".\n",
    "        cost = compute_cost(A2, Y)\n",
    " \n",
    "        # Backpropagation. Inputs: \"parameters, cache, X, Y\". Outputs: \"grads\".\n",
    "        grads = backward(cache, parameters, X, Y)\n",
    " \n",
    "        # Gradient descent parameter update. Inputs: \"parameters, grads\". Outputs: \"parameters\".\n",
    "        parameters = update_parameters(parameters, grads)\n",
    "        \n",
    "        # Print the cost every 1000 iterations\n",
    "        if i % 100 == 0:\n",
    "            print (\"Cost after iteration %i: %f\" % (i, cost))\n",
    "            \n",
    "    #Prediction\n",
    "    Y_prediction = predict(X,parameters)\n",
    "    print(\"------------------\")\n",
    "    print(\"Prediccion:\")\n",
    "    print(Y_prediction)\n",
    "\n",
    "    return parameters"
   ]
  },
  {
   "cell_type": "code",
   "execution_count": 232,
   "metadata": {},
   "outputs": [],
   "source": [
    "X = np.array([[1,1,1,1],[0,1,1,0],[1,0,1,0]])\n",
    "Y = np.array([[1,1,0,0]])"
   ]
  },
  {
   "cell_type": "code",
   "execution_count": 233,
   "metadata": {},
   "outputs": [
    {
     "name": "stdout",
     "output_type": "stream",
     "text": [
      "(2, 4)\n",
      "(2, 4)\n",
      "(1, 4)\n",
      "(1, 4)\n",
      "[[0.50125751 0.50124153 0.50124672 0.50125232]]\n"
     ]
    }
   ],
   "source": [
    "n_x = X.shape[0]\n",
    "n_y = Y.shape[0] \n",
    "parameters = initialize_parameters(n_x, 2, n_y)\n",
    "A2,cache = forward(X,parameters)\n",
    "print(cache[\"Z1\"].shape)\n",
    "print(cache[\"A1\"].shape)\n",
    "print(cache[\"Z2\"].shape)\n",
    "print(cache[\"A2\"].shape)\n",
    "print(A2)"
   ]
  },
  {
   "cell_type": "code",
   "execution_count": 236,
   "metadata": {},
   "outputs": [
    {
     "name": "stdout",
     "output_type": "stream",
     "text": [
      "Cost after iteration 0: 2.772740\n",
      "Cost after iteration 100: 2.772589\n",
      "Cost after iteration 200: 2.772589\n",
      "Cost after iteration 300: 2.772589\n",
      "Cost after iteration 400: 2.772589\n",
      "Cost after iteration 500: 2.772588\n",
      "Cost after iteration 600: 2.772588\n",
      "Cost after iteration 700: 2.772588\n",
      "Cost after iteration 800: 2.772588\n",
      "Cost after iteration 900: 2.772588\n",
      "Cost after iteration 1000: 2.772588\n",
      "Cost after iteration 1100: 2.772588\n",
      "Cost after iteration 1200: 2.772588\n",
      "Cost after iteration 1300: 2.772588\n",
      "Cost after iteration 1400: 2.772587\n",
      "Cost after iteration 1500: 2.772587\n",
      "Cost after iteration 1600: 2.772587\n",
      "Cost after iteration 1700: 2.772587\n",
      "Cost after iteration 1800: 2.772587\n",
      "Cost after iteration 1900: 2.772587\n",
      "Cost after iteration 2000: 2.772587\n",
      "Cost after iteration 2100: 2.772587\n",
      "Cost after iteration 2200: 2.772586\n",
      "Cost after iteration 2300: 2.772586\n",
      "Cost after iteration 2400: 2.772586\n",
      "Cost after iteration 2500: 2.772586\n",
      "Cost after iteration 2600: 2.772586\n",
      "Cost after iteration 2700: 2.772585\n",
      "Cost after iteration 2800: 2.772585\n",
      "Cost after iteration 2900: 2.772585\n",
      "Cost after iteration 3000: 2.772585\n",
      "Cost after iteration 3100: 2.772584\n",
      "Cost after iteration 3200: 2.772584\n",
      "Cost after iteration 3300: 2.772584\n",
      "Cost after iteration 3400: 2.772583\n",
      "Cost after iteration 3500: 2.772583\n",
      "Cost after iteration 3600: 2.772582\n",
      "Cost after iteration 3700: 2.772582\n",
      "Cost after iteration 3800: 2.772581\n",
      "Cost after iteration 3900: 2.772580\n",
      "Cost after iteration 4000: 2.772579\n",
      "Cost after iteration 4100: 2.772578\n",
      "Cost after iteration 4200: 2.772577\n",
      "Cost after iteration 4300: 2.772575\n",
      "Cost after iteration 4400: 2.772573\n",
      "Cost after iteration 4500: 2.772570\n",
      "Cost after iteration 4600: 2.772566\n",
      "Cost after iteration 4700: 2.772561\n",
      "Cost after iteration 4800: 2.772553\n",
      "Cost after iteration 4900: 2.772541\n",
      "Cost after iteration 5000: 2.772520\n",
      "Cost after iteration 5100: 2.772480\n",
      "Cost after iteration 5200: 2.772388\n",
      "Cost after iteration 5300: 2.772111\n",
      "Cost after iteration 5400: 2.770658\n",
      "Cost after iteration 5500: 2.746564\n",
      "Cost after iteration 5600: 2.293438\n",
      "Cost after iteration 5700: 1.598431\n",
      "Cost after iteration 5800: 0.666627\n",
      "Cost after iteration 5900: 0.309115\n",
      "------------------\n",
      "Prediccion:\n",
      "[[1. 1. 0. 0.]]\n"
     ]
    }
   ],
   "source": [
    "parameters = nn_model(X, Y, 20, num_iterations=6000)"
   ]
  },
  {
   "cell_type": "code",
   "execution_count": null,
   "metadata": {},
   "outputs": [],
   "source": [
    "#Ver paso a paso, ejemplo Miss ... ver porque tarda tantas iteracioness.. será por el bactj"
   ]
  },
  {
   "cell_type": "code",
   "execution_count": null,
   "metadata": {},
   "outputs": [],
   "source": []
  }
 ],
 "metadata": {
  "kernelspec": {
   "display_name": "Python 3",
   "language": "python",
   "name": "python3"
  },
  "language_info": {
   "codemirror_mode": {
    "name": "ipython",
    "version": 3
   },
   "file_extension": ".py",
   "mimetype": "text/x-python",
   "name": "python",
   "nbconvert_exporter": "python",
   "pygments_lexer": "ipython3",
   "version": "3.7.4"
  }
 },
 "nbformat": 4,
 "nbformat_minor": 2
}
