{
 "cells": [
  {
   "cell_type": "code",
   "execution_count": 10,
   "metadata": {},
   "outputs": [],
   "source": [
    "import os\n",
    "import pandas as pd\n",
    "import numpy as np\n",
    "import matplotlib.pyplot as plt\n",
    "from sklearn import preprocessing\n",
    "from sklearn.model_selection import train_test_split\n",
    "from sklearn.preprocessing import minmax_scale as mms"
   ]
  },
  {
   "cell_type": "code",
   "execution_count": 11,
   "metadata": {},
   "outputs": [],
   "source": [
    "def load_data(path,name):\n",
    "    csv_path = os.path.join(path, name)\n",
    "    return pd.read_csv(csv_path)"
   ]
  },
  {
   "cell_type": "code",
   "execution_count": 12,
   "metadata": {},
   "outputs": [
    {
     "name": "stdout",
     "output_type": "stream",
     "text": [
      "Loading wine dataset ...\n"
     ]
    },
    {
     "data": {
      "text/html": [
       "<div>\n",
       "<style scoped>\n",
       "    .dataframe tbody tr th:only-of-type {\n",
       "        vertical-align: middle;\n",
       "    }\n",
       "\n",
       "    .dataframe tbody tr th {\n",
       "        vertical-align: top;\n",
       "    }\n",
       "\n",
       "    .dataframe thead th {\n",
       "        text-align: right;\n",
       "    }\n",
       "</style>\n",
       "<table border=\"1\" class=\"dataframe\">\n",
       "  <thead>\n",
       "    <tr style=\"text-align: right;\">\n",
       "      <th></th>\n",
       "      <th>class</th>\n",
       "      <th>atr1</th>\n",
       "      <th>atr2</th>\n",
       "      <th>atr3</th>\n",
       "      <th>atr4</th>\n",
       "      <th>atr5</th>\n",
       "      <th>atr6</th>\n",
       "      <th>atr7</th>\n",
       "      <th>atr8</th>\n",
       "      <th>atr9</th>\n",
       "      <th>atr10</th>\n",
       "      <th>atr11</th>\n",
       "      <th>atr12</th>\n",
       "      <th>atr13</th>\n",
       "    </tr>\n",
       "  </thead>\n",
       "  <tbody>\n",
       "    <tr>\n",
       "      <th>0</th>\n",
       "      <td>1</td>\n",
       "      <td>14.23</td>\n",
       "      <td>1.71</td>\n",
       "      <td>2.43</td>\n",
       "      <td>15.6</td>\n",
       "      <td>127</td>\n",
       "      <td>2.80</td>\n",
       "      <td>3.06</td>\n",
       "      <td>0.28</td>\n",
       "      <td>2.29</td>\n",
       "      <td>5.64</td>\n",
       "      <td>1.04</td>\n",
       "      <td>3.92</td>\n",
       "      <td>1065</td>\n",
       "    </tr>\n",
       "    <tr>\n",
       "      <th>1</th>\n",
       "      <td>1</td>\n",
       "      <td>13.20</td>\n",
       "      <td>1.78</td>\n",
       "      <td>2.14</td>\n",
       "      <td>11.2</td>\n",
       "      <td>100</td>\n",
       "      <td>2.65</td>\n",
       "      <td>2.76</td>\n",
       "      <td>0.26</td>\n",
       "      <td>1.28</td>\n",
       "      <td>4.38</td>\n",
       "      <td>1.05</td>\n",
       "      <td>3.40</td>\n",
       "      <td>1050</td>\n",
       "    </tr>\n",
       "    <tr>\n",
       "      <th>2</th>\n",
       "      <td>1</td>\n",
       "      <td>13.16</td>\n",
       "      <td>2.36</td>\n",
       "      <td>2.67</td>\n",
       "      <td>18.6</td>\n",
       "      <td>101</td>\n",
       "      <td>2.80</td>\n",
       "      <td>3.24</td>\n",
       "      <td>0.30</td>\n",
       "      <td>2.81</td>\n",
       "      <td>5.68</td>\n",
       "      <td>1.03</td>\n",
       "      <td>3.17</td>\n",
       "      <td>1185</td>\n",
       "    </tr>\n",
       "    <tr>\n",
       "      <th>3</th>\n",
       "      <td>1</td>\n",
       "      <td>14.37</td>\n",
       "      <td>1.95</td>\n",
       "      <td>2.50</td>\n",
       "      <td>16.8</td>\n",
       "      <td>113</td>\n",
       "      <td>3.85</td>\n",
       "      <td>3.49</td>\n",
       "      <td>0.24</td>\n",
       "      <td>2.18</td>\n",
       "      <td>7.80</td>\n",
       "      <td>0.86</td>\n",
       "      <td>3.45</td>\n",
       "      <td>1480</td>\n",
       "    </tr>\n",
       "    <tr>\n",
       "      <th>4</th>\n",
       "      <td>1</td>\n",
       "      <td>13.24</td>\n",
       "      <td>2.59</td>\n",
       "      <td>2.87</td>\n",
       "      <td>21.0</td>\n",
       "      <td>118</td>\n",
       "      <td>2.80</td>\n",
       "      <td>2.69</td>\n",
       "      <td>0.39</td>\n",
       "      <td>1.82</td>\n",
       "      <td>4.32</td>\n",
       "      <td>1.04</td>\n",
       "      <td>2.93</td>\n",
       "      <td>735</td>\n",
       "    </tr>\n",
       "  </tbody>\n",
       "</table>\n",
       "</div>"
      ],
      "text/plain": [
       "   class   atr1  atr2  atr3  atr4  atr5  atr6  atr7  atr8  atr9  atr10  atr11  \\\n",
       "0      1  14.23  1.71  2.43  15.6   127  2.80  3.06  0.28  2.29   5.64   1.04   \n",
       "1      1  13.20  1.78  2.14  11.2   100  2.65  2.76  0.26  1.28   4.38   1.05   \n",
       "2      1  13.16  2.36  2.67  18.6   101  2.80  3.24  0.30  2.81   5.68   1.03   \n",
       "3      1  14.37  1.95  2.50  16.8   113  3.85  3.49  0.24  2.18   7.80   0.86   \n",
       "4      1  13.24  2.59  2.87  21.0   118  2.80  2.69  0.39  1.82   4.32   1.04   \n",
       "\n",
       "   atr12  atr13  \n",
       "0   3.92   1065  \n",
       "1   3.40   1050  \n",
       "2   3.17   1185  \n",
       "3   3.45   1480  \n",
       "4   2.93    735  "
      ]
     },
     "execution_count": 12,
     "metadata": {},
     "output_type": "execute_result"
    }
   ],
   "source": [
    "path = \"\"\n",
    "name = \"wine.data\"\n",
    "data = load_data(path,name)\n",
    "print(\"Loading wine dataset ...\")\n",
    "data.head()"
   ]
  },
  {
   "cell_type": "markdown",
   "metadata": {},
   "source": [
    "# Pre-processing Data Set"
   ]
  },
  {
   "cell_type": "code",
   "execution_count": 13,
   "metadata": {},
   "outputs": [
    {
     "name": "stdout",
     "output_type": "stream",
     "text": [
      "Convert Categorical Output to One Hot Vector\n",
      "(178, 3)\n"
     ]
    }
   ],
   "source": [
    "print(\"Convert Categorical Output to One Hot Vector\")\n",
    "def categorical_output(): \n",
    "    Y = data[\"class\"]\n",
    "    Y = Y.values.reshape(-1,1)\n",
    "    enc = preprocessing.OneHotEncoder(categories='auto')\n",
    "    enc.fit(Y)\n",
    "    Y = enc.transform(Y).toarray() #Converting in hot vectors\n",
    "    return Y\n",
    "Y = categorical_output()\n",
    "print(Y.shape)"
   ]
  },
  {
   "cell_type": "code",
   "execution_count": 14,
   "metadata": {},
   "outputs": [
    {
     "name": "stdout",
     "output_type": "stream",
     "text": [
      "Preparing inputs droping Labels and droping indexs\n",
      "(178, 13)\n"
     ]
    }
   ],
   "source": [
    "print(\"Preparing inputs droping Labels and droping indexs\")\n",
    "def preprocessing_input():\n",
    "    X = data\n",
    "    X = X.drop(\"class\", axis = 1)\n",
    "    X = mms(X) #Scalling \n",
    "    return X\n",
    "X = preprocessing_input()\n",
    "print(X.shape)"
   ]
  },
  {
   "cell_type": "markdown",
   "metadata": {},
   "source": [
    "# The MLP"
   ]
  },
  {
   "cell_type": "code",
   "execution_count": 15,
   "metadata": {},
   "outputs": [],
   "source": [
    "def sigmoid(z):\n",
    "    s = 1 / (1 + np.exp(-z))\n",
    "    return s"
   ]
  },
  {
   "cell_type": "code",
   "execution_count": 16,
   "metadata": {},
   "outputs": [],
   "source": [
    "def initialize_parameters(n_x, n_h, n_y):\n",
    "    np.random.seed(1)\n",
    "    \n",
    "    W1 = np.random.normal(0, 1, (n_h, n_x)) #W1 -- weight matrix of shape (n_h, n_x)\n",
    "    b1 = np.random.random((n_h, 1))         #b1 -- bias vector of shape (n_h, 1)\n",
    "    W2 = np.random.normal(0, 1, (n_y, n_h)) #W2 -- weight matrix of shape (n_y, n_h)\n",
    "    b2 = np.random.random((n_y, 1))         #b2 -- bias vector of shape (n_y, 1)\n",
    "\n",
    "\n",
    "    parameters = {\"W1\": W1,\n",
    "                  \"b1\": b1,\n",
    "                  \"W2\": W2,\n",
    "                  \"b2\": b2}\n",
    "    \n",
    "    return parameters"
   ]
  },
  {
   "cell_type": "code",
   "execution_count": 23,
   "metadata": {},
   "outputs": [],
   "source": [
    "def accuracy(Y_pred, Y):\n",
    "    contador = 0\n",
    "    Y_pred = Y_pred.T\n",
    "    Y = Y.T\n",
    "    for i in range(Y_pred.shape[0]) :\n",
    "        if np.array_equal(Y_pred[i],Y[i]):\n",
    "            contador +=1\n",
    "    accuracy = (contador*100.0)/Y_pred.shape[0]\n",
    "    return accuracy"
   ]
  },
  {
   "cell_type": "code",
   "execution_count": 17,
   "metadata": {},
   "outputs": [],
   "source": [
    "def forward(X,Y,parameters,pred=False):\n",
    "    \n",
    "    W1 = parameters[\"W1\"]\n",
    "    W2 = parameters[\"W2\"]\n",
    "    b1 = parameters[\"b1\"]\n",
    "    b2 = parameters[\"b2\"]\n",
    "    \n",
    "    Z1 = np.dot(W1, X) + b1\n",
    "    A1 = sigmoid(Z1)\n",
    "    Z2 = np.dot(W2, A1) + b2\n",
    "    A2 = sigmoid(Z2)\n",
    "    \n",
    "    if pred:\n",
    "        Y_prediction = np.zeros((Y.shape[0], Y.shape[1]))\n",
    "        for i in range(A2.shape[0]):\n",
    "            # Convert probabilities a[0,i] to actual predictions p[0,i]\n",
    "            for j in range(A2.shape[1]):\n",
    "                Y_prediction[i, j] = 1 if A2[i, j] >= 0.5 else 0\n",
    "        return Y_prediction\n",
    "    \n",
    "    \n",
    "    cache = {\n",
    "             \"Z1\": Z1,\n",
    "             \"A1\": A1,\n",
    "             \"Z2\": Z2,\n",
    "             \"A2\": A2}\n",
    "    \n",
    "    return A2,cache"
   ]
  },
  {
   "cell_type": "code",
   "execution_count": 50,
   "metadata": {},
   "outputs": [],
   "source": [
    "def compute_cost(A, Y):\n",
    "    m = Y.shape[1] \n",
    "    cost = (- 1 / m) * np.sum(Y * np.log(A) + (1 - Y) * (np.log(1 - A)))\n",
    "    return cost"
   ]
  },
  {
   "cell_type": "code",
   "execution_count": 38,
   "metadata": {},
   "outputs": [],
   "source": [
    "def derivade_sigmoid(z):\n",
    "    gz = sigmoid(z)\n",
    "    return gz * (1-gz);"
   ]
  },
  {
   "cell_type": "code",
   "execution_count": 39,
   "metadata": {},
   "outputs": [],
   "source": [
    "def backward(cache,parameters, X, Y):\n",
    "    \n",
    "    m = X.shape[1]\n",
    "    \n",
    "    W1 = parameters[\"W1\"]\n",
    "    W2 = parameters[\"W2\"]\n",
    "    b1 = parameters[\"b1\"]\n",
    "    b2 = parameters[\"b2\"]\n",
    "    \n",
    "    Z1 = cache[\"Z1\"] \n",
    "    A1 = cache[\"A1\"] \n",
    "    Z2 = cache[\"Z2\"] \n",
    "    A2 = cache[\"A2\"] \n",
    "    \n",
    "    dZ2 = A2 - Y\n",
    "    dW2 = (1 / m) * np.dot(dZ2, A1.T)\n",
    "    db2 = (1 / m) * np.sum(dZ2,axis=1,keepdims=True)\n",
    "    \n",
    "    dZ1 = np.dot(W2.T, dZ2) * derivade_sigmoid(Z1)\n",
    "    dW1 = (1/m) * np.dot(dZ1, X.T)\n",
    "    db1 = (1/m) * np.sum(dZ1,axis=1,keepdims=True)\n",
    "\n",
    "    \n",
    "    grads = {\"dW1\": dW1,\n",
    "             \"dW2\": dW2,\n",
    "             \"db1\": db1,             \n",
    "             \"db2\": db2,\n",
    "            }\n",
    "    return grads"
   ]
  },
  {
   "cell_type": "code",
   "execution_count": 40,
   "metadata": {},
   "outputs": [],
   "source": [
    "def update_parameters(parameters, grads, learning_rate=0.5):\n",
    "    W1 = parameters[\"W1\"]\n",
    "    W2 = parameters[\"W2\"]\n",
    "    b1 = parameters[\"b1\"]\n",
    "    b2 = parameters[\"b2\"]\n",
    "    \n",
    "   \n",
    "    dW1 = grads[\"dW1\"]\n",
    "    dW2 = grads[\"dW2\"]\n",
    "    db1 = grads[\"db1\"]\n",
    "    db2 = grads[\"db2\"]\n",
    "\n",
    "\n",
    "    W1 = W1 - learning_rate * dW1\n",
    "    W2 = W2 - learning_rate * dW2\n",
    "    b1 = b1 - learning_rate * db1\n",
    "    b2 = b2 - learning_rate * db2\n",
    "    \n",
    "    parameters = {\"W1\": W1,\n",
    "                  \"b1\": b1,\n",
    "                  \"W2\": W2,\n",
    "                  \"b2\": b2}\n",
    "    \n",
    "    return parameters"
   ]
  },
  {
   "cell_type": "code",
   "execution_count": 63,
   "metadata": {},
   "outputs": [],
   "source": [
    "def nn_model(X_train, Y_train, X_test, Y_test, n_h, num_iterations=1):   \n",
    "    n_x = X_train.shape[0]\n",
    "    n_y = Y_train.shape[0] \n",
    "\n",
    "    # Initialize parameters, then retrieve W1, b1, W2, b2. Inputs: \"n_x, n_h, n_y\". Outputs = \"W1, b1, W2, b2, parameters\".\n",
    "    parameters = initialize_parameters(n_x, n_h, n_y)\n",
    "    \n",
    "    for i in range(0, num_iterations):\n",
    "         \n",
    "        # Forward propagation. Inputs: \"X, parameters\". Outputs: \"A2, cache\".\n",
    "        A2, cache = forward(X_train,Y_train,parameters)\n",
    "        \n",
    "        # Cost function. Inputs: \"A2, Y, parameters\". Outputs: \"cost\".\n",
    "        cost = compute_cost(A2, Y_train)\n",
    " \n",
    "        # Backpropagation. Inputs: \"parameters, cache, X, Y\". Outputs: \"grads\".\n",
    "        grads = backward(cache, parameters, X_train, Y_train)\n",
    " \n",
    "        # Gradient descent parameter update. Inputs: \"parameters, grads\". Outputs: \"parameters\".\n",
    "        parameters = update_parameters(parameters, grads)\n",
    "        \n",
    "        # Print the cost every 10 iterations\n",
    "        #if i % 10 == 0:\n",
    "         #   print (\"Cost after iteration %i: %f\" % (i, cost))\n",
    "            \n",
    "    # Predict test/train set examples\n",
    "    Y_prediction_train = forward(X_train,Y_train,parameters,pred=True)\n",
    "    Y_prediction_test  = forward(X_test ,Y_test,parameters,pred=True)\n",
    "\n",
    "    # Print train/test Errors    \n",
    "    print(\"Train Accuracy: \",accuracy(Y_prediction_train, Y_train)) \n",
    "    print(\"Test  Accuracy: \",accuracy(Y_prediction_test, Y_test))\n",
    "    \n",
    "    return parameters"
   ]
  },
  {
   "cell_type": "markdown",
   "metadata": {},
   "source": [
    "# Divide data into Train and Test Sets"
   ]
  },
  {
   "cell_type": "code",
   "execution_count": 75,
   "metadata": {},
   "outputs": [
    {
     "name": "stdout",
     "output_type": "stream",
     "text": [
      "Train Accuracy:  98.49624060150376\n",
      "Test  Accuracy:  100.0\n",
      "Los datos estan en Shuffle\n"
     ]
    }
   ],
   "source": [
    "X_train, X_test, Y_train, Y_test = train_test_split(X, Y, stratify=Y, test_size=0.25,random_state=0)\n",
    "n_h = 25\n",
    "nn_model(X_train.T, Y_train.T, X_test.T, Y_test.T, n_h, num_iterations=1000)\n",
    "print(\"Los datos estan en Shuffle\")"
   ]
  },
  {
   "cell_type": "code",
   "execution_count": null,
   "metadata": {},
   "outputs": [],
   "source": []
  },
  {
   "cell_type": "code",
   "execution_count": null,
   "metadata": {},
   "outputs": [],
   "source": []
  },
  {
   "cell_type": "code",
   "execution_count": null,
   "metadata": {},
   "outputs": [],
   "source": [
    "\n"
   ]
  }
 ],
 "metadata": {
  "kernelspec": {
   "display_name": "Python 3",
   "language": "python",
   "name": "python3"
  },
  "language_info": {
   "codemirror_mode": {
    "name": "ipython",
    "version": 3
   },
   "file_extension": ".py",
   "mimetype": "text/x-python",
   "name": "python",
   "nbconvert_exporter": "python",
   "pygments_lexer": "ipython3",
   "version": "3.7.4"
  }
 },
 "nbformat": 4,
 "nbformat_minor": 2
}
