{
 "cells": [
  {
   "cell_type": "code",
   "execution_count": 3,
   "metadata": {},
   "outputs": [],
   "source": [
    "import numpy as np"
   ]
  },
  {
   "cell_type": "code",
   "execution_count": 19,
   "metadata": {},
   "outputs": [],
   "source": [
    "def limiter (x):\n",
    "    if x >= 0:\n",
    "        return 1\n",
    "    else:\n",
    "        return -1"
   ]
  },
  {
   "cell_type": "code",
   "execution_count": 20,
   "metadata": {},
   "outputs": [],
   "source": [
    "def weight_init(dim):\n",
    "    w = np.zeros(shape=(dim, 1))\n",
    "    b = 0\n",
    "    return w,b"
   ]
  },
  {
   "cell_type": "code",
   "execution_count": null,
   "metadata": {},
   "outputs": [],
   "source": [
    "def weight_adjustment(w,y_pred,Y[xi],xi):\n",
    "    learning_rate = 0.5\n",
    "    \n",
    "    w = w + learning_rate * (Y_pred - Yi) * xi\n",
    "    return w"
   ]
  },
  {
   "cell_type": "code",
   "execution_count": 45,
   "metadata": {},
   "outputs": [],
   "source": [
    "def propagate(w, b, X, Y):\n",
    "    Y_pred = []\n",
    "    for xi in X:\n",
    "        y_pred = np.multiply(xi, w)\n",
    "        if y_pred != Y[xi]:\n",
    "            w = weight_adjustment(w,y_pred,Y[xi],xi)\n",
    "        else:\n",
    "            Y_pred.append(y_pred)\n",
    "    if Y_pred == Y:\n",
    "        print(\"Fin\")\n",
    "    else:\n",
    "        print(\"Ciclo Nuevo\")#Falta un Lopp más"
   ]
  },
  {
   "cell_type": "code",
   "execution_count": 46,
   "metadata": {},
   "outputs": [
    {
     "data": {
      "text/plain": [
       "0"
      ]
     },
     "execution_count": 46,
     "metadata": {},
     "output_type": "execute_result"
    }
   ],
   "source": [
    "w,b = weight_init(3)\n",
    "X = np.array([[1,0,0],[1,0,1],[1,1,0],[1,1,1]])\n",
    "Y = np.array([[0],[0],[0],[1]])\n",
    "\n",
    "\n",
    "propagate(w, b, X, Y)"
   ]
  },
  {
   "cell_type": "code",
   "execution_count": null,
   "metadata": {},
   "outputs": [],
   "source": []
  }
 ],
 "metadata": {
  "kernelspec": {
   "display_name": "Python 3",
   "language": "python",
   "name": "python3"
  },
  "language_info": {
   "codemirror_mode": {
    "name": "ipython",
    "version": 3
   },
   "file_extension": ".py",
   "mimetype": "text/x-python",
   "name": "python",
   "nbconvert_exporter": "python",
   "pygments_lexer": "ipython3",
   "version": "3.7.4"
  }
 },
 "nbformat": 4,
 "nbformat_minor": 2
}
