{
 "cells": [
  {
   "cell_type": "code",
   "execution_count": 1,
   "metadata": {},
   "outputs": [],
   "source": [
    "import numpy as np"
   ]
  },
  {
   "cell_type": "code",
   "execution_count": 2,
   "metadata": {},
   "outputs": [],
   "source": [
    "def limiter(x):\n",
    "    if x > 0:\n",
    "        return 1\n",
    "    else:\n",
    "        return 0"
   ]
  },
  {
   "cell_type": "code",
   "execution_count": 3,
   "metadata": {},
   "outputs": [],
   "source": [
    "def weight_init(dim):\n",
    "    w = np.zeros(shape=(dim, 1))\n",
    "    b = 0\n",
    "    return w,b"
   ]
  },
  {
   "cell_type": "code",
   "execution_count": 4,
   "metadata": {},
   "outputs": [],
   "source": [
    "def weight_adjustment(w,y_pred,yi,xi):\n",
    "    m = w.shape[0]\n",
    "    learning_rate = 0.5\n",
    "    Y_pred = np.full((m, 1), y_pred)\n",
    "    _Y = np.full((m, 1), yi)\n",
    "    w = w + learning_rate * np.multiply((_Y - Y_pred), xi.T)\n",
    "    print(w)\n",
    "    print(\"-----------------------------\")\n",
    "    return w"
   ]
  },
  {
   "cell_type": "code",
   "execution_count": 9,
   "metadata": {},
   "outputs": [],
   "source": [
    "def propagate(w, b, X, Y):\n",
    "    Y_pred = np.zeros(Y.shape[0])\n",
    "    i = 0\n",
    "    for xi in X:\n",
    "        xi = np.reshape(xi, (1, 3))\n",
    "        y_pred = np.matmul(xi,w)\n",
    "        y_pred = limiter(y_pred[0])\n",
    "        Y_pred[i] = (y_pred)\n",
    "        if y_pred != (Y[i]):\n",
    "            w = weight_adjustment(w,y_pred,Y[i],xi)\n",
    "        i += 1\n",
    "    Y_pred = np.reshape(Y_pred, (Y.shape[0], 1))\n",
    "    if np.array_equal(Y_pred,Y):\n",
    "        print(\"Fin\")\n",
    "        print(Y_pred)\n",
    "    else:\n",
    "        propagate(w, b, X, Y)"
   ]
  },
  {
   "cell_type": "code",
   "execution_count": 10,
   "metadata": {},
   "outputs": [
    {
     "name": "stdout",
     "output_type": "stream",
     "text": [
      "[[0.5]\n",
      " [0. ]\n",
      " [0.5]]\n",
      "-----------------------------\n",
      "[[0. ]\n",
      " [0. ]\n",
      " [0.5]]\n",
      "-----------------------------\n",
      "[[0.5]\n",
      " [0.5]\n",
      " [0.5]]\n",
      "-----------------------------\n",
      "[[0. ]\n",
      " [0.5]\n",
      " [0.5]]\n",
      "-----------------------------\n",
      "Fin\n",
      "[[0.]\n",
      " [1.]\n",
      " [1.]\n",
      " [1.]]\n"
     ]
    }
   ],
   "source": [
    "w,b = weight_init(3)\n",
    "#X = np.array([[1,0,0],[1,0,1],[1,1,0],[1,1,1]])\n",
    "#Y = np.array([[0],[0],[0],[1]])\n",
    "\n",
    "X = np.array([[1,0,0],[1,0,1],[1,1,0],[1,1,1]])\n",
    "Y = np.array([[0],[1],[1],[1]])\n",
    "propagate(w, b, X, Y)"
   ]
  },
  {
   "cell_type": "code",
   "execution_count": null,
   "metadata": {},
   "outputs": [],
   "source": [
    "\n"
   ]
  },
  {
   "cell_type": "code",
   "execution_count": null,
   "metadata": {},
   "outputs": [],
   "source": []
  },
  {
   "cell_type": "code",
   "execution_count": null,
   "metadata": {},
   "outputs": [],
   "source": []
  }
 ],
 "metadata": {
  "kernelspec": {
   "display_name": "Python 3",
   "language": "python",
   "name": "python3"
  },
  "language_info": {
   "codemirror_mode": {
    "name": "ipython",
    "version": 3
   },
   "file_extension": ".py",
   "mimetype": "text/x-python",
   "name": "python",
   "nbconvert_exporter": "python",
   "pygments_lexer": "ipython3",
   "version": "3.7.4"
  }
 },
 "nbformat": 4,
 "nbformat_minor": 2
}
